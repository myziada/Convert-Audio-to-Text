{
  "cells": [
    {
      "cell_type": "code",
      "execution_count": null,
      "metadata": {
        "colab": {
          "base_uri": "https://localhost:8080/"
        },
        "id": "gzGCU6KJr4tZ",
        "outputId": "08080730-d929-4a19-817c-f56adf12e363"
      },
      "outputs": [
        {
          "output_type": "stream",
          "name": "stdout",
          "text": [
            "Requirement already satisfied: torch in /usr/local/lib/python3.10/dist-packages (2.1.0+cu121)\n",
            "Requirement already satisfied: filelock in /usr/local/lib/python3.10/dist-packages (from torch) (3.13.1)\n",
            "Requirement already satisfied: typing-extensions in /usr/local/lib/python3.10/dist-packages (from torch) (4.5.0)\n",
            "Requirement already satisfied: sympy in /usr/local/lib/python3.10/dist-packages (from torch) (1.12)\n",
            "Requirement already satisfied: networkx in /usr/local/lib/python3.10/dist-packages (from torch) (3.2.1)\n",
            "Requirement already satisfied: jinja2 in /usr/local/lib/python3.10/dist-packages (from torch) (3.1.2)\n",
            "Requirement already satisfied: fsspec in /usr/local/lib/python3.10/dist-packages (from torch) (2023.6.0)\n",
            "Requirement already satisfied: triton==2.1.0 in /usr/local/lib/python3.10/dist-packages (from torch) (2.1.0)\n",
            "Requirement already satisfied: MarkupSafe>=2.0 in /usr/local/lib/python3.10/dist-packages (from jinja2->torch) (2.1.3)\n",
            "Requirement already satisfied: mpmath>=0.19 in /usr/local/lib/python3.10/dist-packages (from sympy->torch) (1.3.0)\n"
          ]
        }
      ],
      "source": [
        "# Install pytorch\n",
        "!pip install torch"
      ]
    },
    {
      "cell_type": "code",
      "execution_count": null,
      "metadata": {
        "colab": {
          "base_uri": "https://localhost:8080/"
        },
        "id": "wuHLFEOwsAMu",
        "outputId": "4c2f2070-cc78-45d4-ba2d-8f714c7bf3eb"
      },
      "outputs": [
        {
          "output_type": "stream",
          "name": "stdout",
          "text": [
            "Collecting ffmpeg\n",
            "  Downloading ffmpeg-1.4.tar.gz (5.1 kB)\n",
            "  Preparing metadata (setup.py) ... \u001b[?25l\u001b[?25hdone\n",
            "Building wheels for collected packages: ffmpeg\n",
            "  Building wheel for ffmpeg (setup.py) ... \u001b[?25l\u001b[?25hdone\n",
            "  Created wheel for ffmpeg: filename=ffmpeg-1.4-py3-none-any.whl size=6080 sha256=be4420f18d92d10afd959ed7e5212b992a6a83dfc19a33cc68796c60ba74b38f\n",
            "  Stored in directory: /root/.cache/pip/wheels/8e/7a/69/cd6aeb83b126a7f04cbe7c9d929028dc52a6e7d525ff56003a\n",
            "Successfully built ffmpeg\n",
            "Installing collected packages: ffmpeg\n",
            "Successfully installed ffmpeg-1.4\n"
          ]
        }
      ],
      "source": [
        "# install ffmpeg for install whisper openai\n",
        "!pip install ffmpeg"
      ]
    },
    {
      "cell_type": "code",
      "execution_count": null,
      "metadata": {
        "colab": {
          "base_uri": "https://localhost:8080/"
        },
        "id": "LaVUOzrfsXpf",
        "outputId": "a29a967b-7324-472e-963d-b84e3fc10901"
      },
      "outputs": [
        {
          "output_type": "stream",
          "name": "stdout",
          "text": [
            "Collecting openai-whisper\n",
            "  Downloading openai-whisper-20231117.tar.gz (798 kB)\n",
            "\u001b[?25l     \u001b[90m━━━━━━━━━━━━━━━━━━━━━━━━━━━━━━━━━━━━━━━━\u001b[0m \u001b[32m0.0/798.6 kB\u001b[0m \u001b[31m?\u001b[0m eta \u001b[36m-:--:--\u001b[0m\r\u001b[2K     \u001b[91m━━━━━\u001b[0m\u001b[91m╸\u001b[0m\u001b[90m━━━━━━━━━━━━━━━━━━━━━━━━━━━━━━━━━━\u001b[0m \u001b[32m112.6/798.6 kB\u001b[0m \u001b[31m3.1 MB/s\u001b[0m eta \u001b[36m0:00:01\u001b[0m\r\u001b[2K     \u001b[90m━━━━━━━━━━━━━━━━━━━━━━━━━━━━━━━━━━━━━━━━\u001b[0m \u001b[32m798.6/798.6 kB\u001b[0m \u001b[31m14.0 MB/s\u001b[0m eta \u001b[36m0:00:00\u001b[0m\n",
            "\u001b[?25h  Installing build dependencies ... \u001b[?25l\u001b[?25hdone\n",
            "  Getting requirements to build wheel ... \u001b[?25l\u001b[?25hdone\n",
            "  Preparing metadata (pyproject.toml) ... \u001b[?25l\u001b[?25hdone\n",
            "Requirement already satisfied: triton<3,>=2.0.0 in /usr/local/lib/python3.10/dist-packages (from openai-whisper) (2.1.0)\n",
            "Requirement already satisfied: numba in /usr/local/lib/python3.10/dist-packages (from openai-whisper) (0.58.1)\n",
            "Requirement already satisfied: numpy in /usr/local/lib/python3.10/dist-packages (from openai-whisper) (1.23.5)\n",
            "Requirement already satisfied: torch in /usr/local/lib/python3.10/dist-packages (from openai-whisper) (2.1.0+cu121)\n",
            "Requirement already satisfied: tqdm in /usr/local/lib/python3.10/dist-packages (from openai-whisper) (4.66.1)\n",
            "Requirement already satisfied: more-itertools in /usr/local/lib/python3.10/dist-packages (from openai-whisper) (10.1.0)\n",
            "Collecting tiktoken (from openai-whisper)\n",
            "  Downloading tiktoken-0.5.2-cp310-cp310-manylinux_2_17_x86_64.manylinux2014_x86_64.whl (2.0 MB)\n",
            "\u001b[2K     \u001b[90m━━━━━━━━━━━━━━━━━━━━━━━━━━━━━━━━━━━━━━━━\u001b[0m \u001b[32m2.0/2.0 MB\u001b[0m \u001b[31m46.0 MB/s\u001b[0m eta \u001b[36m0:00:00\u001b[0m\n",
            "\u001b[?25hRequirement already satisfied: filelock in /usr/local/lib/python3.10/dist-packages (from triton<3,>=2.0.0->openai-whisper) (3.13.1)\n",
            "Requirement already satisfied: llvmlite<0.42,>=0.41.0dev0 in /usr/local/lib/python3.10/dist-packages (from numba->openai-whisper) (0.41.1)\n",
            "Requirement already satisfied: regex>=2022.1.18 in /usr/local/lib/python3.10/dist-packages (from tiktoken->openai-whisper) (2023.6.3)\n",
            "Requirement already satisfied: requests>=2.26.0 in /usr/local/lib/python3.10/dist-packages (from tiktoken->openai-whisper) (2.31.0)\n",
            "Requirement already satisfied: typing-extensions in /usr/local/lib/python3.10/dist-packages (from torch->openai-whisper) (4.5.0)\n",
            "Requirement already satisfied: sympy in /usr/local/lib/python3.10/dist-packages (from torch->openai-whisper) (1.12)\n",
            "Requirement already satisfied: networkx in /usr/local/lib/python3.10/dist-packages (from torch->openai-whisper) (3.2.1)\n",
            "Requirement already satisfied: jinja2 in /usr/local/lib/python3.10/dist-packages (from torch->openai-whisper) (3.1.2)\n",
            "Requirement already satisfied: fsspec in /usr/local/lib/python3.10/dist-packages (from torch->openai-whisper) (2023.6.0)\n",
            "Requirement already satisfied: charset-normalizer<4,>=2 in /usr/local/lib/python3.10/dist-packages (from requests>=2.26.0->tiktoken->openai-whisper) (3.3.2)\n",
            "Requirement already satisfied: idna<4,>=2.5 in /usr/local/lib/python3.10/dist-packages (from requests>=2.26.0->tiktoken->openai-whisper) (3.6)\n",
            "Requirement already satisfied: urllib3<3,>=1.21.1 in /usr/local/lib/python3.10/dist-packages (from requests>=2.26.0->tiktoken->openai-whisper) (2.0.7)\n",
            "Requirement already satisfied: certifi>=2017.4.17 in /usr/local/lib/python3.10/dist-packages (from requests>=2.26.0->tiktoken->openai-whisper) (2023.11.17)\n",
            "Requirement already satisfied: MarkupSafe>=2.0 in /usr/local/lib/python3.10/dist-packages (from jinja2->torch->openai-whisper) (2.1.3)\n",
            "Requirement already satisfied: mpmath>=0.19 in /usr/local/lib/python3.10/dist-packages (from sympy->torch->openai-whisper) (1.3.0)\n",
            "Building wheels for collected packages: openai-whisper\n",
            "  Building wheel for openai-whisper (pyproject.toml) ... \u001b[?25l\u001b[?25hdone\n",
            "  Created wheel for openai-whisper: filename=openai_whisper-20231117-py3-none-any.whl size=801356 sha256=29fa8bca05adebb406859c27c309bd47128e2951a5c92ca3f269ffd99fadd562\n",
            "  Stored in directory: /root/.cache/pip/wheels/d0/85/e1/9361b4cbea7dd4b7f6702fa4c3afc94877952eeb2b62f45f56\n",
            "Successfully built openai-whisper\n",
            "Installing collected packages: tiktoken, openai-whisper\n",
            "\u001b[31mERROR: pip's dependency resolver does not currently take into account all the packages that are installed. This behaviour is the source of the following dependency conflicts.\n",
            "llmx 0.0.15a0 requires cohere, which is not installed.\n",
            "llmx 0.0.15a0 requires openai, which is not installed.\u001b[0m\u001b[31m\n",
            "\u001b[0mSuccessfully installed openai-whisper-20231117 tiktoken-0.5.2\n"
          ]
        }
      ],
      "source": [
        "!pip install openai-whisper"
      ]
    },
    {
      "cell_type": "code",
      "execution_count": null,
      "metadata": {
        "colab": {
          "base_uri": "https://localhost:8080/"
        },
        "id": "QrdL-y-Qsp9E",
        "outputId": "ac6c74be-985d-47d0-ec68-0563ddfd3bbc"
      },
      "outputs": [
        {
          "output_type": "stream",
          "name": "stdout",
          "text": [
            "Collecting pytube\n",
            "  Downloading pytube-15.0.0-py3-none-any.whl (57 kB)\n",
            "\u001b[?25l     \u001b[90m━━━━━━━━━━━━━━━━━━━━━━━━━━━━━━━━━━━━━━━━\u001b[0m \u001b[32m0.0/57.6 kB\u001b[0m \u001b[31m?\u001b[0m eta \u001b[36m-:--:--\u001b[0m\r\u001b[2K     \u001b[90m━━━━━━━━━━━━━━━━━━━━━━━━━━━━━━━━━━━━━━━━\u001b[0m \u001b[32m57.6/57.6 kB\u001b[0m \u001b[31m1.8 MB/s\u001b[0m eta \u001b[36m0:00:00\u001b[0m\n",
            "\u001b[?25hInstalling collected packages: pytube\n",
            "Successfully installed pytube-15.0.0\n"
          ]
        }
      ],
      "source": [
        "# install pytube PyPi\n",
        "!pip install pytube"
      ]
    },
    {
      "cell_type": "code",
      "execution_count": null,
      "metadata": {
        "colab": {
          "base_uri": "https://localhost:8080/"
        },
        "id": "hoXYGkgRsias",
        "outputId": "f237232d-1242-4bac-fec5-e7f1c7924984"
      },
      "outputs": [
        {
          "output_type": "stream",
          "name": "stdout",
          "text": [
            "Task Completed!\n"
          ]
        }
      ],
      "source": [
        "# Download video from link Youtube or change link youtube into mp4\n",
        "from pytube import YouTube\n",
        "\n",
        "link = \"https://www.youtube.com/watch?v=aAHcvNFNFVA\"\n",
        "\n",
        "yt = YouTube(link)\n",
        "\n",
        "try:\n",
        "    yt.streams.filter(progressive = True,\n",
        "file_extension = \"mp4\").first().download(output_path = \"/content/sample_data\",\n",
        "filename = \"top 10 clue speaking Part 2 IELTS.mp4\")\n",
        "except:\n",
        "    print(\"Some Error!\")\n",
        "print('Task Completed!')"
      ]
    },
    {
      "cell_type": "code",
      "execution_count": null,
      "metadata": {
        "id": "9aEmoq-Xtx5t"
      },
      "outputs": [],
      "source": [
        "import whisper"
      ]
    },
    {
      "cell_type": "markdown",
      "metadata": {
        "id": "YhwLXwT6vQut"
      },
      "source": [
        "Available models and language. Check the link below.\n",
        "\n",
        "https://github.com/openai/whisper"
      ]
    },
    {
      "cell_type": "code",
      "execution_count": null,
      "metadata": {
        "colab": {
          "base_uri": "https://localhost:8080/"
        },
        "id": "gkBETg1StPm4",
        "outputId": "205753ec-55dd-4db1-b892-f7b7fcfcf32f"
      },
      "outputs": [
        {
          "output_type": "stream",
          "name": "stdout",
          "text": [
            " If you need a band seven, eight or nine in IELTS speaking, this video is for you. We recently asked our VIP students for their part two cue cards. So these are real cue cards that actually appeared in the real test. And these are the top 10. I'm gonna reveal each of these cards to you. I'm gonna show you how I would plan out my answer during the one minute preparation time. And then I'm gonna give you a band nine sample for every single cue card. So without further ado, let's get into it. So before I show you each of the cue cards and reveal my band nine sample answer for each of them, I wanna talk about how you can use this video to improve at home. So one thing you can do is you can just sit back, relax and watch the video. That's fine if you want to do that. But if you really want to improve, what you can do is each time I show you the cue card, you can pause the video, spend one minute preparing your own answer and then set two minutes on your phone, record yourself answering the actual question and then listen to my answer and you can compare. Now, if my answer is completely different from yours, that doesn't matter. What matters is you are actually practicing, you are thinking about these questions and you are actually speaking. And listening back and thinking about your performance is really, really going to help. So if you want to do that, that is really gonna help you improve your speaking or if you just wanna sit back, that's fine as well. So let's have a look at these cue cards. Okay, so talk about a time when you received good news. So that'll be my wife's passport. It was before Easter. Give a background on why, why it was good news. And what the news was about. So that will include that and explain why the news was special and will allow us to travel. No need for visas. And then if we have time, we can go into a holiday. So I received amazing news just before Easter this year. My wife got her new passport. Now, for most people that wouldn't be great news, but for my wife, because she's not from the UK, that was her first passport. So it was an amazing thing to happen. Just to give you some background on why it was so important and so special. If you're not from the UK and you get married to a citizen from the UK, it takes between five and six years before you can get an actual passport. You can live in the UK, but you're not allowed to get a passport. You have to apply multiple times, send them mountains of information and spend thousands of pounds trying to get that done. And what that does is it creates a huge problem because if you have what's called a spouse visa for the UK and you don't have one of the premium passports that allows you to travel around the world, it means you're kind of stuck in the UK. So for about five or six years, we were living in the UK, but my family could only travel to my wife's home country. She couldn't travel to Europe. She couldn't travel to America without going through a very stressful process of applying for visas there. So getting this passport was amazing news because it means that we can go on holiday, we can travel anywhere pretty much in the world, visa free. And it just opens up, literally opens up the whole world to my family. And to celebrate, I booked a holiday to Portugal. It was the first time my wife had ever been to Portugal and we were able to just breeze through immigration with her British passport. Okay, so I'm gonna go snorkeling. Tell a story about Barbados. So the first time and then the second time. Too, it was too wavy. No, not too wavy. It's too rough. Let me try Scuba. What activity it was, where you did it, when you did it. Explain whether you liked it or not. Okay, maybe say why you like it. Okay, so an activity that I took part in outdoors recently, and well, a few months ago actually, was snorkeling. So I've never been snorkeling before. And in August, 2020, we went on holiday in Barbados and we had a house right on the beach. And I went swimming every day because the water was right there. And our next door neighbor, who was an American guy, every day he would go in snorkeling. And I didn't really think that snorkeling was available. And then on our last day of the holiday, he said, you wanna try my snorkel? So I put the snorkel on and I was really surprised and kind of disappointed because there was this amazing coral reef right under the sea, a stone's throw away from my house. So for two weeks I was swimming and could have been watching this amazing scene underneath the water. So we rebooked our holiday to Barbados. We went back again December last year and I brought my snorkel with me. I went to the sports shop and purchased the best snorkel I could buy and brought it in my suitcase with me. And when we got there, we discovered that the sea was too rough. So I couldn't snorkel and the sea was rough and choppy the whole time we were there. So not only could I not snorkel, I couldn't even swim. So I missed that opportunity again. In the future, I hope to snorkel maybe somewhere else that has more reliable snorkeling. But I'd also like to try scuba diving because I think weather doesn't really matter so much because you're underneath the water and it's a far more immersive experience but it does require a lot of training. So maybe I need to do my paddy license. So that was, we had on a flight because the flight was canceled. We had to decide, so what? We did right away, decide, Portugal or Spain or stay. Decided to stay. It was great because it was quiet. Not very calm, but disappointed because no compensation. Okay. So recently I had to wait nearly one week for a flight. So we were flying back from the south of Portugal, the Algarve from an airport called Faro. I'm probably mispronouncing that. Apologies to any Portuguese in the audience but what happened was our flight was at 8 p.m. from Portugal to back to Belfast and at 10 to eight, so 10 minutes before the flight was about to take off, I got a text message saying that the flight was canceled with no explanation at all. I think it was the French traffic controllers. So thanks very much for that. And what happened in the immediate aftermath was we just said, okay, no problem. We went to a hotel and it was actually a bonus because we went to a little town in Portugal that we would never normally go to. And it was amazing because we got to see the real Portugal. They had a fish market and a vegetable market there right beside the water. So it was nice just to go and shop with the locals and have coffee with the locals. So it was actually a blessing in disguise. Later that day we needed to decide either we had to get a taxi to Spain because there was no flights available that day from Portugal to Belfast or to take a four hour taxi ride to Lisbon, the capital, or just wait for the next available flight which was five days away. So we decided to do that because when we added up all the costs, it was actually cheaper just to stay an extra five days. And that was an amazing experience because we went back to the same resort that we stayed in. And because Easter had passed, it was basically just us in the resort. So we got not just five star service, six star service. And it was really quiet and beautiful. And having our flight canceled was an amazing experience. Okay, there's no one that I can think of that I really want to work with. So I'm just gonna pick someone famous because that's gonna be easy to talk about. So Elon Musk, how you know them, Tesla, Twitter, et cetera. What they do, so that's kind of the same thing. The thing I would like, so it's first principles, thinking, and then he makes money by solving problems. And you could learn a lot from him. Then what else could we talk about? Probably the negatives, he's controversial. I don't know why, but he is. I suppose if I had to choose one person to work with, it would be Elon Musk. Elon Musk is one of the most successful business people in the history of the world. He's one of the richest people in the world. So it's obvious why you would want to work with him because you could learn a huge amount from him. He's famous because not only has he started one successful company, I think he has started more than 10 successful companies. He's famous for Tesla, which was the first company to successfully start an electric car company, SpaceX. He also bought Twitter, but he also set up PayPal. So he not only has been successful, he has been successful in many different domains. And the thing that I would really like to learn from him is how he makes money and makes a profit by trying to solve problems for the planet and for people. Because Tesla makes a lot of money, but it is also saving the environment. SpaceX makes a lot of money, but it could also save humanity. If there was a natural disaster and we all had to get off the planet, then it's probably the only way we can go is to move to the moon or move to Mars. So his rationale, his modus operandi seems to be, find a huge problem, solve that problem, and get paid for it. And I would really, really like to do that. I try and do that in my own business. So the IELTS test is a huge problem for thousands of people all around the world. We try and make it simple and easier for them to get the scores that they need. But I think there's probably bigger problems that I could tackle now that I've solved that IELTS problem. This is actually quite a difficult one because I don't come from a rich family. So I suppose I'll just say that. The only time I can ever remember getting money from my family is communion money. Explain what that is. That's why I received it. It was stolen from me. But it makes me very grateful because of why it was stolen, stolen in inverted commas. I don't come from a very wealthy family, so I've never been given a huge amount of money in my life. The only time I can remember being given a significant amount of money was for my first Holy Communion. So I'm Irish, I'm from a Catholic background, and if you grew up Catholic, when you're around seven, eight years old, you do your first Holy Communion. And it's like a big milestone in a child's life. And normally family members will give you some money. So I think at the time I was given between 40 and 50 pounds. So in the late 80s, early 90s, I can't remember exactly when that was, early 90s, that was a significant amount of money. But I actually reminded my mother the other day that she took that money from me. I said she stole it from me. And her response was, well, we didn't have any money, so I stole it from you to buy you food and to buy you clothes. So I did feel quite aggrieved at the time because a lot of my richer friends were going and buying toys and things like that. And it was the first time I'd ever had a significant amount of money, and then it was taken from me right away. But looking back now, it fills me with gratitude. I'm very grateful that it happened because it shows how much my mother struggled and how hard she worked for me in order to set me up in life. And recently, my little boy did his first Holy Communion, and he got a lot more than I got. And he wasted it on buying things in a computer game. And it was a good opportunity for us to teach him about money and teach him about not wasting money. Now he wants to buy more things in the computer game, but I told him that he has to work for it, and he has to do some jobs around the house if he wants that. Okay, so I'm going to talk about copyright because that's a law that affects me directly every day. So I'm going to explain what copyright is. It basically protects IP. I follow it by being original. It protects from people I hate. Let's call a spade a spade and explain what should happen if you break that law. So a law that I love is the Holy Communion. So a law that I like is copyright. Copyright protects content creators, people who create things. It protects their intellectual property from being copied without authorization. The reason why I like this law is because my job, principally, 80% of my time is spent making original content. So that could be a blog post, that could be a YouTube video, it could be an image, something like that. And how this law protects me is on a daily basis, definitely a weekly basis, somebody takes my original work and just copies it completely. And what we can do is we can then tell the platforms or sometimes like YouTube tells us, hey, somebody has copied your work. And what that allows us to do is basically get that taken down and then YouTube can either ban them from the platform or what they do is they have a three strikes policy, I think, where if they do it three times, they're completely banned from the platform. I do like this law, but I think that it isn't enforced enough and it isn't respected enough by other people. Recently we had, or not recently, throughout our whole career, we've had a lot of people not only copying our content, the words and the images and the video, but copying things now like our titles and our thumbnail images, which are all original and they take a lot of creativity and brain power and time and work. And I absolutely hate the fact that somebody lazy and stupid, to be honest, can just come along and take that and steal it. And when we report people stealing our titles, people stealing our thumbnails, YouTube are less likely to take that down because they don't consider that a copyright violation when if you follow the letter of the law, it actually is. Okay, Portuguese fish stew. Perfect, because in a pot, restaurants allowed us to take turns explaining how you felt great because, because it allowed us to have a good time with our children. An unusual meal I had recently was at a Portuguese restaurant and for the first time, my wife and I and my two little boys had Portuguese fish stew. I'll not try and pronounce the Portuguese version of it, but basically it comes in a big cast iron pot and it has rice and prawns and other fish and clams and other shellfish in it. The reason why it was such an unusual experience was it was a restaurant that was completely outside and it was set in a big garden on the ocean, on the Atlantic Ocean, and there were cliffs kind of going down to the ocean. And it was very special because if you have two young boys, they don't want to sit in a fancy restaurant and this allowed our boys to kind of run around the gardens and go and have a look over the cliffs and don't worry, it was safe. And it allowed myself and my wife to take turns playing with the boys or eating our meal. And because the stew was in a big cast iron pot, as I said, it didn't get cold. So I would eat some while my wife was looking after my boys and then my wife would come back and she would eat some and then I would go and play with my boys. And they didn't really eat it because they think that prawns and things like that are gross, but we really, really enjoyed it. I would definitely go back to that restaurant again and I would definitely order that meal. One thing we did miss out on was we, as we were leaving, we discovered they had a fresh fish counter where the daily catch was brought in and you could actually go and choose your fish. My wife loves seafood and next time we'll get the fish stew, but we'll also pick a few other things. So there'll be hiking. I'll explain three places or four places. I normally do it alone because I like to listen to podcasts or to think. And then I'll talk about the physical side of it and then talk more about the mental benefits. And then if I run out of time or run out of things to say, I'll talk about the weather, which is kind of a downside of it. Yeah, that should be enough. As you can probably tell from looking at me, I'm not the healthiest person in the world, but one thing I do enjoy, which is quite healthy, is hiking. I live in Northern Ireland and I live in a part of Northern Ireland which is world renowned for its natural beauty. So right on our doorstep we have beaches, we have two beautiful forest parks, we have a beautiful lake, and we've got a medieval castle that you can walk around. So that means that there's a huge variety of places and even within each of those places, like within the forest parks, there are different trails you can go down. So you're always discovering new places and you never get bored. I like to do this on my own because I don't only do it for the physical health benefits, I do it for the mental health benefits. I have quite a busy, stressful job and being able to just get out in nature, we say it allows you to get your head showered here in Northern Ireland, which means just get out and bathe in nature. Not literally bathe, but just surround yourself with nature. And it not only helps you with your cardiovascular health, it can help with stress and de-stressing as well. The only problem with hiking here in Northern Ireland is our weather is notoriously bad. So during the winter it can snow, but most of the time it is actually just raining. And walking in the rain, especially when it's cold and when it's windy, is not a great experience. But in the summertime, we often get spells of weather, maybe two or three weeks, where it is nice and dry, and that is an amazing time. I generally work a lot less during those times and try and get out every day onto one of the hiking trails. Istanbul, Champions League. Who you'll go with, because my son sports Man City. Why you want to go there, to see Man City. Explain why you want to go for a short period, Champions League. So there's not much there. So I'll talk about why it's not suitable for kids. And I'll talk about other parts of Turkey. So there's a lot of walking, historical stuff, cultural stuff. Yeah. So a place I'd love to go for a short period of time is Istanbul in Turkey. There's a very specific reason for that. In a couple of weeks, I think it's two or three weeks, they have the Champions League final there. And I think that's a good time to go. My little boy, Tom, who is eight years old, is obsessed with Man City. So we watch all the Man City games here in the house, and he especially loves the Champions League. So if they make it to the final, I would love to take him to the Champions League final. I don't know if we'll be able to go, however, because tickets are quite hard to come by. But if we get the chance to go, I think we'll be able to go. But if we get the opportunity, I'd love to go. I wouldn't take him there for more than a couple of days. I know that Istanbul is an amazing place to visit, but I don't think it's suitable for children or not for my kid anyway. The things that I would like to do in Istanbul, such as experience the wonderful food and historical sites and the religious sites and the cultural things to do there, an eight-year-old is just not really interested in those things. So we would probably just fly in and stay the night before, go to the match and then come back. I think the matches are held quite late there because of the temperature, so we probably would fly back the next day. I would like to take him back to Turkey, but probably not to Istanbul, for the reasons I just said. He doesn't really like big cities, but he does like seaside resorts. And there are places like Antalya in the south of Turkey, and I'd like to take him there for a lot longer, a week or two, so he could experience Turkey and all the wonderful things there that they have for kids. Okay, so there's an old man in the sea. I met him in the sea while I was swimming. How you met them? I met them in the sea, what they do. So he lived there for more than 80 years in the sea nearly every day. He told me about the history of the village. He was just calm and serene. He was a product of his environment. And he'd also worked in tourism. So a fascinating man that I met recently, back in December, so a few months back. I was swimming in the Caribbean Sea on the west coast of Barbados, and there was an old man who was just lying back relaxing in the sea, and he started talking to me, and I discovered that he lived in a house right on the beach in the village where I was staying. He was more than 80 years old, and I discovered that he had been in the sea nearly every day of his life. And for me, that location is one of the most beautiful places in the entire universe. And it was quite astounding to meet someone who was doing the thing that I wish that I could do, and he'd done that for his entire life. And what struck me about this man was he was so calm, so serene, and when I thought about it, he was kind of a product of his environment. So I often wondered after meeting him, if he grew up in a poverty-stricken part of the world, in a very rough inner-city neighborhood, would he be that person? So it's kind of thinking about that nature versus nurture debate. And it was also fascinating to talk to him about the village in Barbados that he grew up in, because I think his grandmother, he said, owned most of the land around that village, and she was such a lovely woman, and she just gave plots of land to everybody who needed it. So the village kind of grew up around her, and he knew everybody in the village, and they were all very tight because she had just gifted that land to everybody. So, fascinating guy. So I hope that you enjoyed those Band 9 samples, but why were they Band 9? Check out this video where I'm going to talk you through the differences between someone who gets a low score and someone who gets a Band 7, 8, or 9. I'm going to show you exactly what the examiners are thinking so you can give the examiners what they're looking for on test day. Check out this video.\n"
          ]
        }
      ],
      "source": [
        "#  Convert video mp4 into text\n",
        "\n",
        "model = whisper.load_model(\"medium\")\n",
        "result = model.transcribe(\"/content/sample_data/top 10 clue speaking Part 2 IELTS.mp4\")\n",
        "print(result['text'])"
      ]
    },
    {
      "cell_type": "code",
      "execution_count": null,
      "metadata": {
        "id": "X0ZVXtwwt6VP"
      },
      "outputs": [],
      "source": [
        "0# Save the value to a text file\n",
        "with open('top 10 clue speaking Part 2 IELTS.txt', 'w') as file:\n",
        "    file.write(result['text'])"
      ]
    },
    {
      "cell_type": "code",
      "source": [],
      "metadata": {
        "id": "SS2hVJqI9Elq"
      },
      "execution_count": null,
      "outputs": []
    }
  ],
  "metadata": {
    "accelerator": "GPU",
    "colab": {
      "provenance": []
    },
    "kernelspec": {
      "display_name": "Python 3",
      "name": "python3"
    },
    "language_info": {
      "name": "python"
    }
  },
  "nbformat": 4,
  "nbformat_minor": 0
}